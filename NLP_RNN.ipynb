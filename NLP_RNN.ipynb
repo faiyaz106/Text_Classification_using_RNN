{
  "nbformat": 4,
  "nbformat_minor": 0,
  "metadata": {
    "colab": {
      "provenance": [],
      "include_colab_link": true
    },
    "kernelspec": {
      "name": "python3",
      "display_name": "Python 3"
    },
    "language_info": {
      "name": "python"
    },
    "accelerator": "GPU",
    "gpuClass": "standard"
  },
  "cells": [
    {
      "cell_type": "markdown",
      "metadata": {
        "id": "view-in-github",
        "colab_type": "text"
      },
      "source": [
        "<a href=\"https://colab.research.google.com/github/faiyaz106/Text_Classification_using_RNN/blob/main/NLP_RNN.ipynb\" target=\"_parent\"><img src=\"https://colab.research.google.com/assets/colab-badge.svg\" alt=\"Open In Colab\"/></a>"
      ]
    },
    {
      "cell_type": "markdown",
      "source": [
        "Text classification using Neural Networks\n",
        "\n",
        "The goal of this notebook is to learn to use Neural Networks for text classification.\n",
        "\n",
        "In this notebook, we will:\n",
        "\n",
        "Train a shallow model with learning embeddings\n",
        "\n",
        "Download pre-trained embeddings from Glove\n",
        "\n",
        "Use these pre-trained embeddings\n",
        "\n",
        "However keep in mind:\n",
        "\n",
        "Deep Learning can be better on text classification that simpler ML techniques, but only on very large datasets and well designed/tuned models.\n",
        "We won't be using the most efficient (in terms of computing) techniques, as Keras is good for prototyping but rather inefficient for training small embedding models on text.\n",
        "\n",
        "The following projects can replicate similar word embedding models much more efficiently: word2vec (https://github.com/dav/word2vec) and gensim's word2vec (https://radimrehurek.com/gensim/models/word2vec.html) (self-supervised learning only), fastText (https://github.com/facebookresearch/fastText)(both supervised and self-supervised learning), Vowpal Wabbit (https://github.com/VowpalWabbit/vowpal_wabbit/wiki)(supervised learning).\n",
        "Plain shallow sparse TF-IDF bigrams features without any embedding and Logistic Regression or Multinomial Naive Bayes is often competitive in small to medium datasets.\n",
        "\n",
        "20 Newsgroups Dataset\n",
        "\n",
        "The 20 Newsgroups data set is a collection of approximately 20,000 newsgroup documents, partitioned (nearly) evenly across 20 different newsgroups http://qwone.com/~jason/20Newsgroups/ "
      ],
      "metadata": {
        "id": "3qYH5DZG68ML"
      }
    },
    {
      "cell_type": "code",
      "execution_count": 1,
      "metadata": {
        "id": "rJrTxDgw64gJ"
      },
      "outputs": [],
      "source": [
        "import numpy as np\n",
        "from sklearn.datasets import fetch_20newsgroups\n",
        "\n",
        "newsgroups_train = fetch_20newsgroups(subset='train')\n",
        "newsgroups_test = fetch_20newsgroups(subset='test')"
      ]
    },
    {
      "cell_type": "code",
      "source": [
        "sample_idx = 1000\n",
        "print(newsgroups_train[\"data\"][sample_idx])"
      ],
      "metadata": {
        "colab": {
          "base_uri": "https://localhost:8080/"
        },
        "id": "2ruN_U337ESq",
        "outputId": "1ace08fc-31b4-4dbf-e983-554c208e5766"
      },
      "execution_count": 2,
      "outputs": [
        {
          "output_type": "stream",
          "name": "stdout",
          "text": [
            "From: dabl2@nlm.nih.gov (Don A.B. Lindbergh)\n",
            "Subject: Diamond SS24X, Win 3.1, Mouse cursor\n",
            "Organization: National Library of Medicine\n",
            "Lines: 10\n",
            "\n",
            "\n",
            "Anybody seen mouse cursor distortion running the Diamond 1024x768x256 driver?\n",
            "Sorry, don't know the version of the driver (no indication in the menus) but it's a recently\n",
            "delivered Gateway system.  Am going to try the latest drivers from Diamond BBS but wondered\n",
            "if anyone else had seen this.\n",
            "\n",
            "post or email\n",
            "\n",
            "--Don Lindbergh\n",
            "dabl2@lhc.nlm.nih.gov\n",
            "\n"
          ]
        }
      ]
    },
    {
      "cell_type": "code",
      "source": [
        "target_names = newsgroups_train[\"target_names\"]\n",
        "target_id = newsgroups_train[\"target\"][sample_idx]\n",
        "print(\"Class of previous message:\", target_names[target_id])"
      ],
      "metadata": {
        "colab": {
          "base_uri": "https://localhost:8080/"
        },
        "id": "5w9gBCBX7GLx",
        "outputId": "729eb848-b005-428a-8dd9-3b0410bd095a"
      },
      "execution_count": 41,
      "outputs": [
        {
          "output_type": "stream",
          "name": "stdout",
          "text": [
            "Class of previous message: comp.os.ms-windows.misc\n"
          ]
        }
      ]
    },
    {
      "cell_type": "markdown",
      "source": [
        "Here are all the possible classes:"
      ],
      "metadata": {
        "id": "scm1c4sK7Hn3"
      }
    },
    {
      "cell_type": "code",
      "source": [],
      "metadata": {
        "colab": {
          "base_uri": "https://localhost:8080/"
        },
        "id": "RxKfH-Ab7MNz",
        "outputId": "58aacba6-07ae-4c68-85e6-8b51a793d983"
      },
      "execution_count": 42,
      "outputs": [
        {
          "output_type": "execute_result",
          "data": {
            "text/plain": [
              "2"
            ]
          },
          "metadata": {},
          "execution_count": 42
        }
      ]
    },
    {
      "cell_type": "markdown",
      "source": [
        "Preprocessing text for the (supervised) CBOW model\n",
        "\n",
        "We will implement a simple classification model in Keras. Raw text requires (sometimes a lot of) preprocessing.\n",
        "\n",
        "The following cells uses Keras to preprocess text:\n",
        "\n",
        "using a tokenizer. You may use different tokenizers (from scikit-learn, NLTK, custom Python function etc.). This converts the texts into sequences of indices representing the 20000 most frequent words\n",
        "\n",
        "sequences have different lengths, so we pad them (add 0s at the end until the sequence is of length 1000)\n",
        "\n",
        "we convert the output classes as 1-hot encodings"
      ],
      "metadata": {
        "id": "0UfJEBNI7OIX"
      }
    },
    {
      "cell_type": "code",
      "source": [
        "from keras.preprocessing.text import Tokenizer\n",
        "MAX_NB_WORDS = 20000\n",
        "# get the raw text data\n",
        "texts_train = newsgroups_train[\"data\"]\n",
        "texts_test = newsgroups_test[\"data\"]\n",
        "\n",
        "# finally, vectorize the text samples into a 2D integer tensor\n",
        "tokenizer = Tokenizer(num_words=MAX_NB_WORDS, char_level=False)\n",
        "tokenizer.fit_on_texts(texts_train)\n",
        "sequences = tokenizer.texts_to_sequences(texts_train)\n",
        "sequences_test = tokenizer.texts_to_sequences(texts_test)\n",
        "\n",
        "word_index = tokenizer.word_index\n",
        "print('Found %s unique tokens.' % len(word_index))"
      ],
      "metadata": {
        "colab": {
          "base_uri": "https://localhost:8080/"
        },
        "id": "L9A0RbN77X9I",
        "outputId": "91485dbd-5c27-408f-b18b-914723734dd6"
      },
      "execution_count": 7,
      "outputs": [
        {
          "output_type": "stream",
          "name": "stdout",
          "text": [
            "Found 134142 unique tokens.\n"
          ]
        }
      ]
    },
    {
      "cell_type": "code",
      "source": [
        "word_index['hello']"
      ],
      "metadata": {
        "colab": {
          "base_uri": "https://localhost:8080/"
        },
        "id": "gzQn5GXzRXTs",
        "outputId": "5426f617-3dd3-49a9-8227-264fe6fe7c2e"
      },
      "execution_count": 23,
      "outputs": [
        {
          "output_type": "execute_result",
          "data": {
            "text/plain": [
              "1718"
            ]
          },
          "metadata": {},
          "execution_count": 23
        }
      ]
    },
    {
      "cell_type": "code",
      "source": [
        "len(sequences[685])"
      ],
      "metadata": {
        "colab": {
          "base_uri": "https://localhost:8080/"
        },
        "id": "t07q8H4BQjbr",
        "outputId": "ae5e273a-e3a2-4424-cc75-4677b689fe06"
      },
      "execution_count": null,
      "outputs": [
        {
          "output_type": "execute_result",
          "data": {
            "text/plain": [
              "324"
            ]
          },
          "metadata": {},
          "execution_count": 28
        }
      ]
    },
    {
      "cell_type": "markdown",
      "source": [
        "Tokenized sequences are converted to list of token ids (with an integer code):\n",
        "\n"
      ],
      "metadata": {
        "id": "OSTAlo0d7ojA"
      }
    },
    {
      "cell_type": "code",
      "source": [
        "sequences[0]\n"
      ],
      "metadata": {
        "colab": {
          "base_uri": "https://localhost:8080/"
        },
        "id": "R2_Bkx8Y7raX",
        "outputId": "82a52d9f-1b8c-4987-fd31-131c43948530"
      },
      "execution_count": null,
      "outputs": [
        {
          "output_type": "execute_result",
          "data": {
            "text/plain": [
              "[14,\n",
              " 4308,\n",
              " 1350,\n",
              " 15,\n",
              " 11126,\n",
              " 38,\n",
              " 250,\n",
              " 29,\n",
              " 42,\n",
              " 298,\n",
              " 9,\n",
              " 17,\n",
              " 95,\n",
              " 78,\n",
              " 91,\n",
              " 4308,\n",
              " 1350,\n",
              " 15,\n",
              " 34,\n",
              " 77,\n",
              " 3,\n",
              " 2952,\n",
              " 610,\n",
              " 1767,\n",
              " 32,\n",
              " 211,\n",
              " 8,\n",
              " 26,\n",
              " 1308,\n",
              " 27,\n",
              " 171,\n",
              " 66,\n",
              " 47,\n",
              " 123,\n",
              " 9879,\n",
              " 63,\n",
              " 16,\n",
              " 17,\n",
              " 298,\n",
              " 8,\n",
              " 708,\n",
              " 1,\n",
              " 86,\n",
              " 263,\n",
              " 11,\n",
              " 26,\n",
              " 4,\n",
              " 36,\n",
              " 1497,\n",
              " 2266,\n",
              " 298,\n",
              " 1162,\n",
              " 2,\n",
              " 18,\n",
              " 14,\n",
              " 1,\n",
              " 1347,\n",
              " 13637,\n",
              " 843,\n",
              " 15448,\n",
              " 11,\n",
              " 26,\n",
              " 337,\n",
              " 4,\n",
              " 1,\n",
              " 4017,\n",
              " 80,\n",
              " 182,\n",
              " 484,\n",
              " 7,\n",
              " 1376,\n",
              " 1,\n",
              " 844,\n",
              " 8164,\n",
              " 26,\n",
              " 1835,\n",
              " 14,\n",
              " 1,\n",
              " 816,\n",
              " 3,\n",
              " 1,\n",
              " 726,\n",
              " 17,\n",
              " 9,\n",
              " 44,\n",
              " 8,\n",
              " 88,\n",
              " 27,\n",
              " 171,\n",
              " 39,\n",
              " 4,\n",
              " 828,\n",
              " 273,\n",
              " 1078,\n",
              " 2908,\n",
              " 198,\n",
              " 3,\n",
              " 2804,\n",
              " 153,\n",
              " 17,\n",
              " 298,\n",
              " 9,\n",
              " 239,\n",
              " 628,\n",
              " 25,\n",
              " 808,\n",
              " 357,\n",
              " 13,\n",
              " 21,\n",
              " 16,\n",
              " 17,\n",
              " 384,\n",
              " 298,\n",
              " 181,\n",
              " 112,\n",
              " 188,\n",
              " 206,\n",
              " 1498,\n",
              " 1341,\n",
              " 2,\n",
              " 13,\n",
              " 35,\n",
              " 58,\n",
              " 7860]"
            ]
          },
          "metadata": {},
          "execution_count": 29
        }
      ]
    },
    {
      "cell_type": "markdown",
      "source": [
        "The tokenizer object stores a mapping (vocabulary) from word strings to token ids that can be inverted to reconstruct the original message (without formatting):"
      ],
      "metadata": {
        "id": "BEapOdQO7ufZ"
      }
    },
    {
      "cell_type": "code",
      "source": [
        "type(tokenizer.word_index), len(tokenizer.word_index)"
      ],
      "metadata": {
        "colab": {
          "base_uri": "https://localhost:8080/"
        },
        "id": "NumwGRG67xaw",
        "outputId": "58ab886f-4c6c-4b59-b4f6-885882e68291"
      },
      "execution_count": 24,
      "outputs": [
        {
          "output_type": "execute_result",
          "data": {
            "text/plain": [
              "(dict, 134142)"
            ]
          },
          "metadata": {},
          "execution_count": 24
        }
      ]
    },
    {
      "cell_type": "code",
      "source": [],
      "metadata": {
        "id": "tglZz3u2Zq-S"
      },
      "execution_count": 26,
      "outputs": []
    },
    {
      "cell_type": "code",
      "source": [
        "index_to_word = dict((i, w) for w, i in tokenizer.word_index.items())"
      ],
      "metadata": {
        "id": "JsDwWsJV7zrY"
      },
      "execution_count": 25,
      "outputs": []
    },
    {
      "cell_type": "code",
      "source": [
        "\" \".join([index_to_word[i] for i in sequences[0]])"
      ],
      "metadata": {
        "colab": {
          "base_uri": "https://localhost:8080/",
          "height": 87
        },
        "id": "doEh7R7i706J",
        "outputId": "ca808209-4f1b-43b6-e566-45dd4c5d6edc"
      },
      "execution_count": null,
      "outputs": [
        {
          "output_type": "execute_result",
          "data": {
            "text/plain": [
              "\"from wam umd edu where's my thing subject what car is this nntp posting host wam umd edu organization university of maryland college park lines 15 i was wondering if anyone out there could enlighten me on this car i saw the other day it was a 2 door sports car looked to be from the late 60s early 70s it was called a the doors were really small in addition the front bumper was separate from the rest of the body this is all i know if anyone can a model name engine specs years of production where this car is made history or whatever info you have on this looking car please e mail thanks il brought to you by your neighborhood\""
            ],
            "application/vnd.google.colaboratory.intrinsic+json": {
              "type": "string"
            }
          },
          "metadata": {},
          "execution_count": 32
        }
      ]
    },
    {
      "cell_type": "markdown",
      "source": [
        "Let's have a closer look at the tokenized sequences:"
      ],
      "metadata": {
        "id": "tImgpXLR74_s"
      }
    },
    {
      "cell_type": "code",
      "source": [
        "seq_lens = [len(s) for s in sequences]\n",
        "print(\"average length: %0.1f\" % np.mean(seq_lens))\n",
        "print(\"max length: %d\" % max(seq_lens))"
      ],
      "metadata": {
        "colab": {
          "base_uri": "https://localhost:8080/"
        },
        "id": "3_i_1Qps76W5",
        "outputId": "3e7954cc-066e-497e-d289-09f99a1fa0a9"
      },
      "execution_count": 27,
      "outputs": [
        {
          "output_type": "stream",
          "name": "stdout",
          "text": [
            "average length: 302.5\n",
            "max length: 15365\n"
          ]
        }
      ]
    },
    {
      "cell_type": "code",
      "source": [
        "%matplotlib inline\n",
        "import matplotlib.pyplot as plt\n",
        "\n",
        "plt.hist(seq_lens, bins=100);"
      ],
      "metadata": {
        "colab": {
          "base_uri": "https://localhost:8080/",
          "height": 430
        },
        "id": "pANmo4XD79XY",
        "outputId": "ac026933-8940-4f13-cf06-24fd88c84aa5"
      },
      "execution_count": 30,
      "outputs": [
        {
          "output_type": "display_data",
          "data": {
            "text/plain": [
              "<Figure size 640x480 with 1 Axes>"
            ],
            "image/png": "[encoded data removed]"
          },
          "metadata": {}
        }
      ]
    },
    {
      "cell_type": "markdown",
      "source": [
        "Let's zoom on the distribution of regular sized posts. The vast majority of the posts have less than 3000 symbols:"
      ],
      "metadata": {
        "id": "RsBFPald7_qk"
      }
    },
    {
      "cell_type": "code",
      "source": [
        "plt.hist([l for l in seq_lens if l < 3000], bins=50);"
      ],
      "metadata": {
        "colab": {
          "base_uri": "https://localhost:8080/",
          "height": 430
        },
        "id": "-ZcvCh9r8B4W",
        "outputId": "673b4d6e-ffa7-4c64-b122-2eedde40ddaa"
      },
      "execution_count": 31,
      "outputs": [
        {
          "output_type": "display_data",
          "data": {
            "text/plain": [
              "<Figure size 640x480 with 1 Axes>"
            ],
            "image/png": "[encoded data removed]"
          },
          "metadata": {}
        }
      ]
    },
    {
      "cell_type": "markdown",
      "source": [
        "Let's truncate and pad all the sequences to 1000 symbols to build the training set:"
      ],
      "metadata": {
        "id": "2kUrKpng8H8K"
      }
    },
    {
      "cell_type": "code",
      "source": [
        "#from keras.preprocessing.sequence import pad_sequences\n",
        "from tensorflow.keras.preprocessing.sequence import pad_sequences\n",
        "\n",
        "\n",
        "MAX_SEQUENCE_LENGTH = 1000\n",
        "\n",
        "# pad sequences with 0s\n",
        "x_train = pad_sequences(sequences, maxlen=MAX_SEQUENCE_LENGTH)\n",
        "x_test = pad_sequences(sequences_test, maxlen=MAX_SEQUENCE_LENGTH)\n",
        "print('Shape of data tensor:', x_train.shape)\n",
        "print('Shape of data test tensor:', x_test.shape)"
      ],
      "metadata": {
        "colab": {
          "base_uri": "https://localhost:8080/"
        },
        "id": "-mVmGj1S8JQa",
        "outputId": "cace4cb2-1f5f-46bf-8f90-bc39544973c4"
      },
      "execution_count": 32,
      "outputs": [
        {
          "output_type": "stream",
          "name": "stdout",
          "text": [
            "Shape of data tensor: (11314, 1000)\n",
            "Shape of data test tensor: (7532, 1000)\n"
          ]
        }
      ]
    },
    {
      "cell_type": "code",
      "source": [
        "from keras.utils.np_utils import to_categorical\n",
        "y_train = newsgroups_train[\"target\"]\n",
        "y_test = newsgroups_test[\"target\"]\n",
        "y_train = to_categorical(np.asarray(y_train))\n",
        "print('Shape of label tensor:', y_train.shape)"
      ],
      "metadata": {
        "id": "HLClqV5I8LJC",
        "colab": {
          "base_uri": "https://localhost:8080/"
        },
        "outputId": "8c32a4ea-73a0-4ab1-9d50-9c4dfa93cdd5"
      },
      "execution_count": 33,
      "outputs": [
        {
          "output_type": "stream",
          "name": "stdout",
          "text": [
            "Shape of label tensor: (11314, 20)\n"
          ]
        }
      ]
    },
    {
      "cell_type": "code",
      "source": [
        "newsgroups_train[\"target\"]"
      ],
      "metadata": {
        "colab": {
          "base_uri": "https://localhost:8080/"
        },
        "id": "J1Pdgct4bwGF",
        "outputId": "9f7ac939-6a6f-4c95-c1b8-92c030bce3aa"
      },
      "execution_count": 36,
      "outputs": [
        {
          "output_type": "execute_result",
          "data": {
            "text/plain": [
              "array([7, 4, 4, ..., 3, 1, 8])"
            ]
          },
          "metadata": {},
          "execution_count": 36
        }
      ]
    },
    {
      "cell_type": "markdown",
      "source": [
        "A simple supervised Bag of Words model in Keras\n",
        "\n",
        "The following computes a very simple model, as described in fastText https://github.com/facebookresearch/fastText :\n",
        "\n",
        "![image.png](data:image/png;base64,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)\n",
        "\n",
        "Build an embedding layer mapping each word to a vector representation\n",
        "\n",
        "Compute the vector representation of all words in each sequence and average them\n",
        "\n",
        "Add a dense layer to output 20 classes (+ softmax)"
      ],
      "metadata": {
        "id": "D1GUmdlR8QGe"
      }
    },
    {
      "cell_type": "code",
      "source": [
        "from keras.layers import Dense, Input, Flatten\n",
        "from keras.layers import GlobalAveragePooling1D, Embedding\n",
        "from keras.models import Model\n",
        "\n",
        "EMBEDDING_DIM = 50\n",
        "N_CLASSES = len(target_names)\n",
        "# input: a sequence of MAX_SEQUENCE_LENGTH integers\n",
        "sequence_input = Input(shape=(MAX_SEQUENCE_LENGTH,), dtype='int32')\n",
        "\n",
        "embedding_layer = Embedding(MAX_NB_WORDS, EMBEDDING_DIM,\n",
        "                            input_length=MAX_SEQUENCE_LENGTH,\n",
        "                            trainable=True)\n",
        "embedded_sequences = embedding_layer(sequence_input)\n",
        "\n",
        "average = GlobalAveragePooling1D()(embedded_sequences)\n",
        "predictions = Dense(N_CLASSES, activation='softmax')(average)\n",
        "\n",
        "model = Model(sequence_input, predictions)\n",
        "model.compile(loss='categorical_crossentropy', optimizer='adam', metrics=['acc'])"
      ],
      "metadata": {
        "id": "QD5SfjZQ8gjG"
      },
      "execution_count": null,
      "outputs": []
    },
    {
      "cell_type": "code",
      "source": [
        "model.fit(x_train, y_train, validation_split=0.1,epochs=50, batch_size=128)"
      ],
      "metadata": {
        "colab": {
          "base_uri": "https://localhost:8080/"
        },
        "id": "5LDH3ebq8zkM",
        "outputId": "1d54b504-738f-4ec2-a88c-45aff42b8e87"
      },
      "execution_count": null,
      "outputs": [
        {
          "output_type": "stream",
          "name": "stdout",
          "text": [
            "Epoch 1/50\n",
            "80/80 [==============================] - 17s 165ms/step - loss: 2.9864 - acc: 0.0765 - val_loss: 2.9774 - val_acc: 0.1157\n",
            "Epoch 2/50\n",
            "80/80 [==============================] - 13s 159ms/step - loss: 2.9620 - acc: 0.1264 - val_loss: 2.9510 - val_acc: 0.1555\n",
            "Epoch 3/50\n",
            "80/80 [==============================] - 12s 149ms/step - loss: 2.9275 - acc: 0.1697 - val_loss: 2.9128 - val_acc: 0.1793\n",
            "Epoch 4/50\n",
            "80/80 [==============================] - 14s 175ms/step - loss: 2.8858 - acc: 0.1990 - val_loss: 2.8704 - val_acc: 0.2297\n",
            "Epoch 5/50\n",
            "80/80 [==============================] - 9s 120ms/step - loss: 2.8426 - acc: 0.2268 - val_loss: 2.8293 - val_acc: 0.2376\n",
            "Epoch 6/50\n",
            "80/80 [==============================] - 9s 116ms/step - loss: 2.7966 - acc: 0.2702 - val_loss: 2.7834 - val_acc: 0.2641\n",
            "Epoch 7/50\n",
            "80/80 [==============================] - 7s 86ms/step - loss: 2.7450 - acc: 0.3250 - val_loss: 2.7301 - val_acc: 0.3269\n",
            "Epoch 8/50\n",
            "80/80 [==============================] - 8s 95ms/step - loss: 2.6868 - acc: 0.3712 - val_loss: 2.6725 - val_acc: 0.3719\n",
            "Epoch 9/50\n",
            "80/80 [==============================] - 5s 63ms/step - loss: 2.6222 - acc: 0.4198 - val_loss: 2.6088 - val_acc: 0.4532\n",
            "Epoch 10/50\n",
            "80/80 [==============================] - 6s 78ms/step - loss: 2.5522 - acc: 0.4753 - val_loss: 2.5408 - val_acc: 0.4496\n",
            "Epoch 11/50\n",
            "80/80 [==============================] - 5s 67ms/step - loss: 2.4779 - acc: 0.5044 - val_loss: 2.4692 - val_acc: 0.5027\n",
            "Epoch 12/50\n",
            "80/80 [==============================] - 7s 85ms/step - loss: 2.4011 - acc: 0.5524 - val_loss: 2.3950 - val_acc: 0.5442\n",
            "Epoch 13/50\n",
            "80/80 [==============================] - 5s 66ms/step - loss: 2.3217 - acc: 0.5860 - val_loss: 2.3216 - val_acc: 0.5468\n",
            "Epoch 14/50\n",
            "80/80 [==============================] - 6s 79ms/step - loss: 2.2420 - acc: 0.6057 - val_loss: 2.2478 - val_acc: 0.5839\n",
            "Epoch 15/50\n",
            "80/80 [==============================] - 5s 60ms/step - loss: 2.1620 - acc: 0.6407 - val_loss: 2.1738 - val_acc: 0.6025\n",
            "Epoch 16/50\n",
            "80/80 [==============================] - 6s 82ms/step - loss: 2.0821 - acc: 0.6881 - val_loss: 2.1002 - val_acc: 0.6378\n",
            "Epoch 17/50\n",
            "80/80 [==============================] - 4s 56ms/step - loss: 2.0041 - acc: 0.6951 - val_loss: 2.0300 - val_acc: 0.6440\n",
            "Epoch 18/50\n",
            "80/80 [==============================] - 4s 51ms/step - loss: 1.9269 - acc: 0.7061 - val_loss: 1.9599 - val_acc: 0.6811\n",
            "Epoch 19/50\n",
            "80/80 [==============================] - 4s 50ms/step - loss: 1.8521 - acc: 0.7384 - val_loss: 1.8902 - val_acc: 0.7058\n",
            "Epoch 20/50\n",
            "80/80 [==============================] - 2s 22ms/step - loss: 1.7796 - acc: 0.7510 - val_loss: 1.8263 - val_acc: 0.7200\n",
            "Epoch 21/50\n",
            "80/80 [==============================] - 2s 28ms/step - loss: 1.7092 - acc: 0.7689 - val_loss: 1.7615 - val_acc: 0.7217\n",
            "Epoch 22/50\n",
            "80/80 [==============================] - 4s 45ms/step - loss: 1.6415 - acc: 0.7865 - val_loss: 1.7017 - val_acc: 0.7350\n",
            "Epoch 23/50\n",
            "80/80 [==============================] - 5s 57ms/step - loss: 1.5765 - acc: 0.8003 - val_loss: 1.6422 - val_acc: 0.7580\n",
            "Epoch 24/50\n",
            "80/80 [==============================] - 2s 27ms/step - loss: 1.5149 - acc: 0.8010 - val_loss: 1.5876 - val_acc: 0.7535\n",
            "Epoch 25/50\n",
            "80/80 [==============================] - 3s 42ms/step - loss: 1.4549 - acc: 0.8205 - val_loss: 1.5345 - val_acc: 0.7473\n",
            "Epoch 26/50\n",
            "80/80 [==============================] - 3s 38ms/step - loss: 1.3979 - acc: 0.8268 - val_loss: 1.4834 - val_acc: 0.7597\n",
            "Epoch 27/50\n",
            "80/80 [==============================] - 3s 40ms/step - loss: 1.3433 - acc: 0.8266 - val_loss: 1.4358 - val_acc: 0.7871\n",
            "Epoch 28/50\n",
            "80/80 [==============================] - 2s 27ms/step - loss: 1.2914 - acc: 0.8454 - val_loss: 1.3905 - val_acc: 0.7783\n",
            "Epoch 29/50\n",
            "80/80 [==============================] - 2s 22ms/step - loss: 1.2420 - acc: 0.8454 - val_loss: 1.3444 - val_acc: 0.7889\n",
            "Epoch 30/50\n",
            "80/80 [==============================] - 2s 20ms/step - loss: 1.1949 - acc: 0.8559 - val_loss: 1.3033 - val_acc: 0.7995\n",
            "Epoch 31/50\n",
            "80/80 [==============================] - 2s 23ms/step - loss: 1.1496 - acc: 0.8622 - val_loss: 1.2638 - val_acc: 0.7951\n",
            "Epoch 32/50\n",
            "80/80 [==============================] - 3s 37ms/step - loss: 1.1066 - acc: 0.8736 - val_loss: 1.2258 - val_acc: 0.7942\n",
            "Epoch 33/50\n",
            "80/80 [==============================] - 2s 27ms/step - loss: 1.0657 - acc: 0.8694 - val_loss: 1.1919 - val_acc: 0.8057\n",
            "Epoch 34/50\n",
            "80/80 [==============================] - 3s 33ms/step - loss: 1.0274 - acc: 0.8816 - val_loss: 1.1566 - val_acc: 0.8127\n",
            "Epoch 35/50\n",
            "80/80 [==============================] - 2s 23ms/step - loss: 0.9892 - acc: 0.8861 - val_loss: 1.1240 - val_acc: 0.8163\n",
            "Epoch 36/50\n",
            "80/80 [==============================] - 2s 29ms/step - loss: 0.9535 - acc: 0.8890 - val_loss: 1.0938 - val_acc: 0.8269\n",
            "Epoch 37/50\n",
            "80/80 [==============================] - 2s 29ms/step - loss: 0.9200 - acc: 0.8964 - val_loss: 1.0651 - val_acc: 0.8277\n",
            "Epoch 38/50\n",
            "80/80 [==============================] - 2s 28ms/step - loss: 0.8876 - acc: 0.9003 - val_loss: 1.0379 - val_acc: 0.8269\n",
            "Epoch 39/50\n",
            "80/80 [==============================] - 1s 18ms/step - loss: 0.8567 - acc: 0.9023 - val_loss: 1.0116 - val_acc: 0.8366\n",
            "Epoch 40/50\n",
            "80/80 [==============================] - 2s 22ms/step - loss: 0.8270 - acc: 0.9064 - val_loss: 0.9853 - val_acc: 0.8375\n",
            "Epoch 41/50\n",
            "80/80 [==============================] - 2s 23ms/step - loss: 0.7984 - acc: 0.9104 - val_loss: 0.9631 - val_acc: 0.8357\n",
            "Epoch 42/50\n",
            "80/80 [==============================] - 1s 16ms/step - loss: 0.7720 - acc: 0.9145 - val_loss: 0.9396 - val_acc: 0.8436\n",
            "Epoch 43/50\n",
            "80/80 [==============================] - 2s 20ms/step - loss: 0.7456 - acc: 0.9192 - val_loss: 0.9171 - val_acc: 0.8507\n",
            "Epoch 44/50\n",
            "80/80 [==============================] - 3s 33ms/step - loss: 0.7209 - acc: 0.9185 - val_loss: 0.8984 - val_acc: 0.8498\n",
            "Epoch 45/50\n",
            "80/80 [==============================] - 1s 16ms/step - loss: 0.6974 - acc: 0.9225 - val_loss: 0.8771 - val_acc: 0.8551\n",
            "Epoch 46/50\n",
            "80/80 [==============================] - 2s 20ms/step - loss: 0.6743 - acc: 0.9255 - val_loss: 0.8588 - val_acc: 0.8472\n",
            "Epoch 47/50\n",
            "80/80 [==============================] - 2s 25ms/step - loss: 0.6527 - acc: 0.9258 - val_loss: 0.8409 - val_acc: 0.8525\n",
            "Epoch 48/50\n",
            "80/80 [==============================] - 1s 18ms/step - loss: 0.6316 - acc: 0.9299 - val_loss: 0.8242 - val_acc: 0.8631\n",
            "Epoch 49/50\n",
            "80/80 [==============================] - 2s 27ms/step - loss: 0.6116 - acc: 0.9323 - val_loss: 0.8083 - val_acc: 0.8613\n",
            "Epoch 50/50\n",
            "80/80 [==============================] - 1s 12ms/step - loss: 0.5930 - acc: 0.9345 - val_loss: 0.7919 - val_acc: 0.8578\n"
          ]
        },
        {
          "output_type": "execute_result",
          "data": {
            "text/plain": [
              "<keras.callbacks.History at 0x7f9be90308e0>"
            ]
          },
          "metadata": {},
          "execution_count": 18
        }
      ]
    },
    {
      "cell_type": "code",
      "source": [
        "output_test = model(x_test)\n",
        "test_casses = np.argmax(output_test, axis=-1)\n",
        "print(\"Test accuracy:\", np.mean(test_casses == y_test))"
      ],
      "metadata": {
        "colab": {
          "base_uri": "https://localhost:8080/"
        },
        "id": "n8u_bt3gUcwm",
        "outputId": "7675c13a-ac00-437d-a2fb-257e0639a76b"
      },
      "execution_count": null,
      "outputs": [
        {
          "output_type": "stream",
          "name": "stdout",
          "text": [
            "Test accuracy: 0.7938130642591609\n"
          ]
        }
      ]
    },
    {
      "cell_type": "markdown",
      "source": [
        "Building more complex models\n",
        "\n",
        "Recurrent neural networks through LSTM (you will need to reduce sequence length before)\n",
        "\n",
        "![image.png](data:image/png;base64,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)\n"
      ],
      "metadata": {
        "id": "CQRznlL-9YUf"
      }
    },
    {
      "cell_type": "markdown",
      "source": [
        "\n",
        "You may try different architectures with:\n",
        "\n",
        "more intermediate layers, combination of dense, conv, recurrent\n",
        "\n",
        "different recurrent (GRU, RNN)\n",
        "\n",
        "bidirectional LSTMs\n",
        "\n",
        "The goal is to build working models rather than getting better test accuracy. To achieve much better results, we'd need more computation time and data quantity. Build your model, and verify that they converge to OK results."
      ],
      "metadata": {
        "id": "jAqvMFNK9g9n"
      }
    },
    {
      "cell_type": "code",
      "source": [
        "\n",
        "from keras.layers import GRU, LSTM, Conv1D, MaxPooling1D\n",
        "\n",
        "# input: a sequence of MAX_SEQUENCE_LENGTH integers\n",
        "sequence_input = Input(shape=(MAX_SEQUENCE_LENGTH,), dtype='int32')\n",
        "embedded_sequences = embedding_layer(sequence_input)\n",
        "\n",
        "# 1D convolution with 64 output channels\n",
        "x = Conv1D(64, 5)(embedded_sequences)\n",
        "# MaxPool divides the length of the sequence by 5\n",
        "x = MaxPooling1D(5)(x)\n",
        "x = Conv1D(64, 5)(x)\n",
        "x = MaxPooling1D(5)(x)\n",
        "# GRU layer with a hidden size of 64\n",
        "x = GRU(64)(x)\n",
        "predictions = Dense(20, activation='softmax')(x)\n",
        "\n",
        "model = Model(sequence_input, predictions)\n",
        "model.compile(loss='categorical_crossentropy',\n",
        "              optimizer='adam',\n",
        "              metrics=['acc'])\n",
        "\n",
        "# You will get large speedups with these models by using a GPU\n",
        "# The model might take a lot of time to converge, and even more\n",
        "# if you add dropout (needed to prevent overfitting)"
      ],
      "metadata": {
        "id": "VPE1soOh9NEA"
      },
      "execution_count": null,
      "outputs": []
    },
    {
      "cell_type": "code",
      "source": [
        "model.fit(x_train, y_train, validation_split=0.1, epochs=40, batch_size=128, verbose=2)"
      ],
      "metadata": {
        "colab": {
          "base_uri": "https://localhost:8080/"
        },
        "id": "F68z8xnplbI_",
        "outputId": "dae94edd-c4f8-4131-dd48-e2d5aa7ee1fa"
      },
      "execution_count": null,
      "outputs": [
        {
          "output_type": "stream",
          "name": "stdout",
          "text": [
            "Epoch 1/20\n",
            "80/80 - 14s - loss: 1.4244 - acc: 0.6401 - val_loss: 0.8197 - val_acc: 0.7942 - 14s/epoch - 174ms/step\n",
            "Epoch 2/20\n",
            "80/80 - 9s - loss: 0.3784 - acc: 0.9149 - val_loss: 0.5140 - val_acc: 0.8542 - 9s/epoch - 106ms/step\n",
            "Epoch 3/20\n",
            "80/80 - 9s - loss: 0.1940 - acc: 0.9534 - val_loss: 0.4288 - val_acc: 0.8746 - 9s/epoch - 116ms/step\n",
            "Epoch 4/20\n",
            "80/80 - 8s - loss: 0.1285 - acc: 0.9691 - val_loss: 0.4218 - val_acc: 0.8737 - 8s/epoch - 97ms/step\n",
            "Epoch 5/20\n",
            "80/80 - 7s - loss: 0.0893 - acc: 0.9795 - val_loss: 0.4196 - val_acc: 0.8746 - 7s/epoch - 89ms/step\n",
            "Epoch 6/20\n",
            "80/80 - 7s - loss: 0.0656 - acc: 0.9872 - val_loss: 0.3854 - val_acc: 0.8825 - 7s/epoch - 89ms/step\n",
            "Epoch 7/20\n",
            "80/80 - 6s - loss: 0.0428 - acc: 0.9934 - val_loss: 0.3871 - val_acc: 0.8913 - 6s/epoch - 79ms/step\n",
            "Epoch 8/20\n",
            "80/80 - 6s - loss: 0.0316 - acc: 0.9956 - val_loss: 0.4034 - val_acc: 0.8887 - 6s/epoch - 75ms/step\n",
            "Epoch 9/20\n",
            "80/80 - 5s - loss: 0.0231 - acc: 0.9977 - val_loss: 0.3884 - val_acc: 0.8958 - 5s/epoch - 63ms/step\n",
            "Epoch 10/20\n",
            "80/80 - 6s - loss: 0.0152 - acc: 0.9988 - val_loss: 0.3907 - val_acc: 0.8940 - 6s/epoch - 78ms/step\n",
            "Epoch 11/20\n",
            "80/80 - 4s - loss: 0.0118 - acc: 0.9989 - val_loss: 0.3953 - val_acc: 0.8931 - 4s/epoch - 53ms/step\n",
            "Epoch 12/20\n",
            "80/80 - 4s - loss: 0.0092 - acc: 0.9992 - val_loss: 0.4034 - val_acc: 0.8966 - 4s/epoch - 51ms/step\n",
            "Epoch 13/20\n",
            "80/80 - 5s - loss: 0.0077 - acc: 0.9995 - val_loss: 0.3973 - val_acc: 0.8966 - 5s/epoch - 67ms/step\n",
            "Epoch 14/20\n",
            "80/80 - 4s - loss: 0.0069 - acc: 0.9992 - val_loss: 0.3951 - val_acc: 0.9002 - 4s/epoch - 50ms/step\n",
            "Epoch 15/20\n",
            "80/80 - 4s - loss: 0.0058 - acc: 0.9996 - val_loss: 0.4052 - val_acc: 0.8966 - 4s/epoch - 49ms/step\n",
            "Epoch 16/20\n",
            "80/80 - 5s - loss: 0.0046 - acc: 0.9996 - val_loss: 0.4020 - val_acc: 0.8966 - 5s/epoch - 57ms/step\n",
            "Epoch 17/20\n",
            "80/80 - 3s - loss: 0.0042 - acc: 0.9997 - val_loss: 0.4132 - val_acc: 0.8922 - 3s/epoch - 38ms/step\n",
            "Epoch 18/20\n",
            "80/80 - 3s - loss: 0.0039 - acc: 0.9997 - val_loss: 0.4113 - val_acc: 0.8993 - 3s/epoch - 38ms/step\n",
            "Epoch 19/20\n",
            "80/80 - 4s - loss: 0.0032 - acc: 0.9999 - val_loss: 0.4059 - val_acc: 0.9011 - 4s/epoch - 55ms/step\n",
            "Epoch 20/20\n",
            "80/80 - 4s - loss: 0.0029 - acc: 0.9998 - val_loss: 0.4161 - val_acc: 0.8984 - 4s/epoch - 47ms/step\n"
          ]
        },
        {
          "output_type": "execute_result",
          "data": {
            "text/plain": [
              "<keras.callbacks.History at 0x7f9be8a2c4f0>"
            ]
          },
          "metadata": {},
          "execution_count": 46
        }
      ]
    },
    {
      "cell_type": "code",
      "source": [
        "output_test = model(x_test)\n",
        "test_casses = np.argmax(output_test, axis=-1)\n",
        "print(\"Test accuracy:\", np.mean(test_casses == y_test))"
      ],
      "metadata": {
        "colab": {
          "base_uri": "https://localhost:8080/"
        },
        "id": "EvQxcqr1lbP9",
        "outputId": "9e3c781a-99a8-485c-d96f-54610a8070ae"
      },
      "execution_count": null,
      "outputs": [
        {
          "output_type": "stream",
          "name": "stdout",
          "text": [
            "Test accuracy: 0.82129580456718\n"
          ]
        }
      ]
    },
    {
      "cell_type": "code",
      "source": [
        "\n",
        "from keras.layers import Conv1D, MaxPooling1D, Flatten\n",
        "\n",
        "sequence_input = Input(shape=(MAX_SEQUENCE_LENGTH,), dtype='int32')\n",
        "embedded_sequences = embedding_layer(sequence_input)\n",
        "\n",
        "# A 1D convolution with 128 output channels\n",
        "x = Conv1D(128, 5, activation='relu')(embedded_sequences)\n",
        "# MaxPool divides the length of the sequence by 5\n",
        "x = MaxPooling1D(5)(x)\n",
        "# A 1D convolution with 64 output channels\n",
        "x = Conv1D(64, 5, activation='relu')(x)\n",
        "# MaxPool divides the length of the sequence by 5\n",
        "x = MaxPooling1D(5)(x)\n",
        "x = Flatten()(x)\n",
        "\n",
        "predictions = Dense(20, activation='softmax')(x)\n",
        "\n",
        "model = Model(sequence_input, predictions)\n",
        "model.compile(loss='categorical_crossentropy',\n",
        "              optimizer='adam',\n",
        "              metrics=['acc'])"
      ],
      "metadata": {
        "id": "HLfYqq409wBC"
      },
      "execution_count": null,
      "outputs": []
    },
    {
      "cell_type": "code",
      "source": [
        "model.fit(x_train, y_train, validation_split=0.1, epochs=2, batch_size=128, verbose=2)"
      ],
      "metadata": {
        "colab": {
          "base_uri": "https://localhost:8080/"
        },
        "id": "lByVEf6q-CVM",
        "outputId": "b95a0de1-21c9-4784-f65d-e8690b4fcf3d"
      },
      "execution_count": null,
      "outputs": [
        {
          "output_type": "stream",
          "name": "stdout",
          "text": [
            "Epoch 1/2\n",
            "80/80 - 56s - loss: 2.1258 - acc: 0.3525 - val_loss: 1.4056 - val_acc: 0.5557 - 56s/epoch - 700ms/step\n",
            "Epoch 2/2\n",
            "80/80 - 52s - loss: 0.8367 - acc: 0.7617 - val_loss: 0.9128 - val_acc: 0.7014 - 52s/epoch - 654ms/step\n"
          ]
        },
        {
          "output_type": "execute_result",
          "data": {
            "text/plain": [
              "<keras.callbacks.History at 0x7fee536c5b50>"
            ]
          },
          "metadata": {},
          "execution_count": 74
        }
      ]
    },
    {
      "cell_type": "code",
      "source": [
        "output_test = model(x_test)\n",
        "test_casses = np.argmax(output_test, axis=-1)\n",
        "print(\"Test accuracy:\", np.mean(test_casses == y_test))"
      ],
      "metadata": {
        "colab": {
          "base_uri": "https://localhost:8080/"
        },
        "id": "bczgYP7RgPop",
        "outputId": "7dc7e645-39e7-4b8d-8ddf-e73833ccc087"
      },
      "execution_count": null,
      "outputs": [
        {
          "output_type": "stream",
          "name": "stdout",
          "text": [
            "Test accuracy: 0.6363515666489644\n"
          ]
        }
      ]
    },
    {
      "cell_type": "markdown",
      "source": [
        "Loading pre-trained embeddings\n",
        "\n",
        "The file glove100K.100d.txt is an extract of Glove Vectors (https://huggingface.co/stanfordnlp/glove/resolve/main/glove.6B.zip), that were trained on english Wikipedia 2014 + Gigaword 5 (6B tokens).\n",
        "\n",
        "We extracted the 100 000 most frequent words. They have a dimension of 100"
      ],
      "metadata": {
        "id": "7ERsICqd-b9W"
      }
    },
    {
      "cell_type": "code",
      "source": [
        "from google.colab import files\n",
        "uploaded = files.upload()"
      ],
      "metadata": {
        "colab": {
          "base_uri": "https://localhost:8080/",
          "height": 73
        },
        "id": "wgsnBZU0IWV2",
        "outputId": "912f6558-a82b-4b5e-dd24-242b0b2928de"
      },
      "execution_count": null,
      "outputs": [
        {
          "output_type": "display_data",
          "data": {
            "text/plain": [
              "<IPython.core.display.HTML object>"
            ],
            "text/html": [
              "\n",
              "     <input type=\"file\" id=\"files-5db1735d-81ab-4a5a-b697-94a2226e3b4d\" name=\"files[]\" multiple disabled\n",
              "        style=\"border:none\" />\n",
              "     <output id=\"result-5db1735d-81ab-4a5a-b697-94a2226e3b4d\">\n",
              "      Upload widget is only available when the cell has been executed in the\n",
              "      current browser session. Please rerun this cell to enable.\n",
              "      </output>\n",
              "      <script>// Copyright 2017 Google LLC\n",
              "//\n",
              "// Licensed under the Apache License, Version 2.0 (the \"License\");\n",
              "// you may not use this file except in compliance with the License.\n",
              "// You may obtain a copy of the License at\n",
              "//\n",
              "//      http://www.apache.org/licenses/LICENSE-2.0\n",
              "//\n",
              "// Unless required by applicable law or agreed to in writing, software\n",
              "// distributed under the License is distributed on an \"AS IS\" BASIS,\n",
              "// WITHOUT WARRANTIES OR CONDITIONS OF ANY KIND, either express or implied.\n",
              "// See the License for the specific language governing permissions and\n",
              "// limitations under the License.\n",
              "\n",
              "/**\n",
              " * @fileoverview Helpers for google.colab Python module.\n",
              " */\n",
              "(function(scope) {\n",
              "function span(text, styleAttributes = {}) {\n",
              "  const element = document.createElement('span');\n",
              "  element.textContent = text;\n",
              "  for (const key of Object.keys(styleAttributes)) {\n",
              "    element.style[key] = styleAttributes[key];\n",
              "  }\n",
              "  return element;\n",
              "}\n",
              "\n",
              "// Max number of bytes which will be uploaded at a time.\n",
              "const MAX_PAYLOAD_SIZE = 100 * 1024;\n",
              "\n",
              "function _uploadFiles(inputId, outputId) {\n",
              "  const steps = uploadFilesStep(inputId, outputId);\n",
              "  const outputElement = document.getElementById(outputId);\n",
              "  // Cache steps on the outputElement to make it available for the next call\n",
              "  // to uploadFilesContinue from Python.\n",
              "  outputElement.steps = steps;\n",
              "\n",
              "  return _uploadFilesContinue(outputId);\n",
              "}\n",
              "\n",
              "// This is roughly an async generator (not supported in the browser yet),\n",
              "// where there are multiple asynchronous steps and the Python side is going\n",
              "// to poll for completion of each step.\n",
              "// This uses a Promise to block the python side on completion of each step,\n",
              "// then passes the result of the previous step as the input to the next step.\n",
              "function _uploadFilesContinue(outputId) {\n",
              "  const outputElement = document.getElementById(outputId);\n",
              "  const steps = outputElement.steps;\n",
              "\n",
              "  const next = steps.next(outputElement.lastPromiseValue);\n",
              "  return Promise.resolve(next.value.promise).then((value) => {\n",
              "    // Cache the last promise value to make it available to the next\n",
              "    // step of the generator.\n",
              "    outputElement.lastPromiseValue = value;\n",
              "    return next.value.response;\n",
              "  });\n",
              "}\n",
              "\n",
              "/**\n",
              " * Generator function which is called between each async step of the upload\n",
              " * process.\n",
              " * @param {string} inputId Element ID of the input file picker element.\n",
              " * @param {string} outputId Element ID of the output display.\n",
              " * @return {!Iterable<!Object>} Iterable of next steps.\n",
              " */\n",
              "function* uploadFilesStep(inputId, outputId) {\n",
              "  const inputElement = document.getElementById(inputId);\n",
              "  inputElement.disabled = false;\n",
              "\n",
              "  const outputElement = document.getElementById(outputId);\n",
              "  outputElement.innerHTML = '';\n",
              "\n",
              "  const pickedPromise = new Promise((resolve) => {\n",
              "    inputElement.addEventListener('change', (e) => {\n",
              "      resolve(e.target.files);\n",
              "    });\n",
              "  });\n",
              "\n",
              "  const cancel = document.createElement('button');\n",
              "  inputElement.parentElement.appendChild(cancel);\n",
              "  cancel.textContent = 'Cancel upload';\n",
              "  const cancelPromise = new Promise((resolve) => {\n",
              "    cancel.onclick = () => {\n",
              "      resolve(null);\n",
              "    };\n",
              "  });\n",
              "\n",
              "  // Wait for the user to pick the files.\n",
              "  const files = yield {\n",
              "    promise: Promise.race([pickedPromise, cancelPromise]),\n",
              "    response: {\n",
              "      action: 'starting',\n",
              "    }\n",
              "  };\n",
              "\n",
              "  cancel.remove();\n",
              "\n",
              "  // Disable the input element since further picks are not allowed.\n",
              "  inputElement.disabled = true;\n",
              "\n",
              "  if (!files) {\n",
              "    return {\n",
              "      response: {\n",
              "        action: 'complete',\n",
              "      }\n",
              "    };\n",
              "  }\n",
              "\n",
              "  for (const file of files) {\n",
              "    const li = document.createElement('li');\n",
              "    li.append(span(file.name, {fontWeight: 'bold'}));\n",
              "    li.append(span(\n",
              "        `(${file.type || 'n/a'}) - ${file.size} bytes, ` +\n",
              "        `last modified: ${\n",
              "            file.lastModifiedDate ? file.lastModifiedDate.toLocaleDateString() :\n",
              "                                    'n/a'} - `));\n",
              "    const percent = span('0% done');\n",
              "    li.appendChild(percent);\n",
              "\n",
              "    outputElement.appendChild(li);\n",
              "\n",
              "    const fileDataPromise = new Promise((resolve) => {\n",
              "      const reader = new FileReader();\n",
              "      reader.onload = (e) => {\n",
              "        resolve(e.target.result);\n",
              "      };\n",
              "      reader.readAsArrayBuffer(file);\n",
              "    });\n",
              "    // Wait for the data to be ready.\n",
              "    let fileData = yield {\n",
              "      promise: fileDataPromise,\n",
              "      response: {\n",
              "        action: 'continue',\n",
              "      }\n",
              "    };\n",
              "\n",
              "    // Use a chunked sending to avoid message size limits. See b/62115660.\n",
              "    let position = 0;\n",
              "    do {\n",
              "      const length = Math.min(fileData.byteLength - position, MAX_PAYLOAD_SIZE);\n",
              "      const chunk = new Uint8Array(fileData, position, length);\n",
              "      position += length;\n",
              "\n",
              "      const base64 = btoa(String.fromCharCode.apply(null, chunk));\n",
              "      yield {\n",
              "        response: {\n",
              "          action: 'append',\n",
              "          file: file.name,\n",
              "          data: base64,\n",
              "        },\n",
              "      };\n",
              "\n",
              "      let percentDone = fileData.byteLength === 0 ?\n",
              "          100 :\n",
              "          Math.round((position / fileData.byteLength) * 100);\n",
              "      percent.textContent = `${percentDone}% done`;\n",
              "\n",
              "    } while (position < fileData.byteLength);\n",
              "  }\n",
              "\n",
              "  // All done.\n",
              "  yield {\n",
              "    response: {\n",
              "      action: 'complete',\n",
              "    }\n",
              "  };\n",
              "}\n",
              "\n",
              "scope.google = scope.google || {};\n",
              "scope.google.colab = scope.google.colab || {};\n",
              "scope.google.colab._files = {\n",
              "  _uploadFiles,\n",
              "  _uploadFilesContinue,\n",
              "};\n",
              "})(self);\n",
              "</script> "
            ]
          },
          "metadata": {}
        },
        {
          "output_type": "stream",
          "name": "stdout",
          "text": [
            "Saving glove.6B.100d (1).txt to glove.6B.100d (1).txt\n"
          ]
        }
      ]
    },
    {
      "cell_type": "code",
      "source": [
        "!ls\n"
      ],
      "metadata": {
        "colab": {
          "base_uri": "https://localhost:8080/"
        },
        "id": "8Y41uEEAb4PZ",
        "outputId": "a85bf9bf-f51a-44eb-b61a-25505b5b17bd"
      },
      "execution_count": null,
      "outputs": [
        {
          "output_type": "stream",
          "name": "stdout",
          "text": [
            "'glove.6B.100d (1).txt'   sample_data\n"
          ]
        }
      ]
    },
    {
      "cell_type": "code",
      "source": [
        "embeddings_index = {}\n",
        "embeddings_vectors = []\n",
        "f = open('/content/glove.6B.100d (1).txt','rb')\n",
        "\n",
        "word_idx = 1\n",
        "for line in f:\n",
        "    values = line.decode('utf-8').split()\n",
        "    word = values[0]\n",
        "    vector = np.asarray(values[1:], dtype='float32')\n",
        "    embeddings_index[word] = word_idx\n",
        "    embeddings_vectors.append(vector)\n",
        "    word_idx = word_idx + 1\n",
        "f.close()\n",
        "\n",
        "inv_index = {v: k for k, v in embeddings_index.items()}\n",
        "print(\"found %d different words in the file\" % word_idx)"
      ],
      "metadata": {
        "colab": {
          "base_uri": "https://localhost:8080/"
        },
        "id": "feVNuuqk-bi_",
        "outputId": "7392cad2-e856-40eb-878f-72873b1d40ae"
      },
      "execution_count": null,
      "outputs": [
        {
          "output_type": "stream",
          "name": "stdout",
          "text": [
            "found 400001 different words in the file\n"
          ]
        }
      ]
    },
    {
      "cell_type": "code",
      "source": [
        "# Stack all embeddings in a large numpy array\n",
        "glove_embeddings = np.vstack(embeddings_vectors)\n",
        "glove_norms = np.linalg.norm(glove_embeddings, axis=-1, keepdims=True)\n",
        "glove_embeddings_normed = glove_embeddings / glove_norms\n",
        "print(glove_embeddings.shape)"
      ],
      "metadata": {
        "colab": {
          "base_uri": "https://localhost:8080/"
        },
        "id": "x8b-RhMn-LyQ",
        "outputId": "d4da5c04-88b6-471a-86c7-569cc088a5c4"
      },
      "execution_count": null,
      "outputs": [
        {
          "output_type": "stream",
          "name": "stdout",
          "text": [
            "(400000, 100)\n"
          ]
        }
      ]
    },
    {
      "cell_type": "code",
      "source": [
        "def get_emb(word):\n",
        "    idx = embeddings_index.get(word)\n",
        "    if idx is None:\n",
        "        return None\n",
        "    else:\n",
        "        return glove_embeddings[idx]\n",
        "\n",
        "    \n",
        "def get_normed_emb(word):\n",
        "    idx = embeddings_index.get(word)\n",
        "    if idx is None:\n",
        "        return None\n",
        "    else:\n",
        "        return glove_embeddings_normed[idx]"
      ],
      "metadata": {
        "id": "J9HC9BwK-hfu"
      },
      "execution_count": null,
      "outputs": []
    },
    {
      "cell_type": "code",
      "source": [
        "get_emb(\"computer\")"
      ],
      "metadata": {
        "id": "BOlStZNg-jni",
        "colab": {
          "base_uri": "https://localhost:8080/"
        },
        "outputId": "a9217d9c-bc77-4dc5-9f86-47ba9a74f1f0"
      },
      "execution_count": null,
      "outputs": [
        {
          "output_type": "execute_result",
          "data": {
            "text/plain": [
              "array([ 3.4294e-01, -2.4806e-01, -2.1903e-01, -2.7343e-01,  4.1209e-01,\n",
              "        1.2106e-03,  8.9447e-01,  1.5980e-01, -6.6800e-01, -2.1646e-01,\n",
              "        9.4019e-01, -3.4529e-01, -1.9443e-01,  5.8047e-02,  8.7329e-01,\n",
              "        1.5896e-02,  9.1921e-02,  3.5554e-01, -9.9768e-01,  6.9761e-01,\n",
              "        6.7753e-01, -1.2722e-01,  6.5938e-01,  7.1955e-01,  6.2019e-02,\n",
              "       -3.5024e-01,  2.3467e-01, -3.4278e-02,  5.8109e-01,  1.6219e-01,\n",
              "        1.4753e-01,  3.0023e-01,  3.1600e-01, -6.1805e-01, -6.2727e-01,\n",
              "       -6.6628e-02,  1.6324e-01,  1.1423e-01, -5.2143e-01,  5.7920e-01,\n",
              "       -2.7500e-02, -6.2960e-01,  8.0471e-01, -3.6092e-01,  3.2068e-01,\n",
              "       -5.9124e-01, -4.2370e-01, -8.2406e-01, -1.5164e-01, -1.3551e-01,\n",
              "       -4.2008e-01, -7.1731e-01, -2.7170e-01,  6.7747e-01, -6.5305e-01,\n",
              "       -2.1724e+00, -4.6184e-01, -7.5181e-01,  1.5218e+00,  8.7949e-01,\n",
              "       -6.8901e-01,  4.7929e-01, -7.4755e-01,  5.7336e-02, -8.9979e-02,\n",
              "        6.2477e-01, -4.2093e-01,  2.8386e-01, -7.7733e-03,  5.3589e-01,\n",
              "       -3.8592e-01, -9.7837e-02, -9.0988e-02,  5.2013e-01, -2.6249e-02,\n",
              "        4.6073e-02,  1.1092e-01,  1.0644e-01, -8.6564e-01, -4.3474e-01,\n",
              "        5.8984e-01, -1.1644e-01,  1.7892e-02,  2.7562e-01, -2.4252e-01,\n",
              "       -5.4009e-01,  3.9369e-01, -3.3225e-01,  2.0222e-01,  5.7594e-01,\n",
              "        2.1462e-02,  1.7965e-01, -3.2390e-02,  1.1119e-01, -1.1776e+00,\n",
              "        6.8388e-01, -3.1705e-01, -1.4661e-01,  2.6256e-01, -5.6383e-01],\n",
              "      dtype=float32)"
            ]
          },
          "metadata": {},
          "execution_count": 28
        }
      ]
    },
    {
      "cell_type": "markdown",
      "source": [
        "Using pre-trained embeddings in our model\n",
        "\n",
        "We want to use these pre-trained embeddings for transfer learning. This process is rather similar than transfer learning in image recognition: the features learnt on words might help us bootstrap the learning process, and increase performance if we don't have enough training data.\n",
        "\n",
        "We initialize embedding matrix from the model with Glove embeddings:\n",
        "\n",
        "take all words from our 20 Newgroup vocabulary (MAX_NB_WORDS = 20000), and look up their Glove embedding\n",
        "\n",
        "place the Glove embedding at the corresponding index in the matrix\n",
        "\n",
        "if the word is not in the Glove vocabulary, we only place zeros in the matrix\n",
        "We may fix these embeddings or fine-tune them"
      ],
      "metadata": {
        "id": "YLlcZLhj_I5b"
      }
    },
    {
      "cell_type": "code",
      "source": [
        "EMBEDDING_DIM = 100\n",
        "\n",
        "# prepare embedding matrix\n",
        "nb_words_in_matrix = 0\n",
        "nb_words = min(MAX_NB_WORDS, len(word_index))\n",
        "embedding_matrix = np.zeros((nb_words, EMBEDDING_DIM))\n",
        "for word, i in word_index.items():\n",
        "    if i >= MAX_NB_WORDS:\n",
        "        continue\n",
        "    embedding_vector = get_emb(word)\n",
        "    if embedding_vector is not None:\n",
        "        # words not found in embedding index will be all-zeros.\n",
        "        embedding_matrix[i] = embedding_vector\n",
        "        nb_words_in_matrix = nb_words_in_matrix + 1\n",
        "        \n",
        "print(\"added %d words in the embedding matrix\" % nb_words_in_matrix)"
      ],
      "metadata": {
        "colab": {
          "base_uri": "https://localhost:8080/"
        },
        "id": "6Mnl24do_MsN",
        "outputId": "2b3970ae-c00b-48b2-81b4-64f11d7ea82f"
      },
      "execution_count": null,
      "outputs": [
        {
          "output_type": "stream",
          "name": "stdout",
          "text": [
            "added 17401 words in the embedding matrix\n"
          ]
        }
      ]
    },
    {
      "cell_type": "markdown",
      "source": [
        "Build a layer with pre-trained embeddings:"
      ],
      "metadata": {
        "id": "Fn7WgjL3ffKD"
      }
    },
    {
      "cell_type": "code",
      "source": [
        "pretrained_embedding_layer = Embedding(\n",
        "    MAX_NB_WORDS, EMBEDDING_DIM,\n",
        "    weights=[embedding_matrix],\n",
        "    input_length=MAX_SEQUENCE_LENGTH,\n",
        ")"
      ],
      "metadata": {
        "id": "24g2NAKnfhVh"
      },
      "execution_count": null,
      "outputs": []
    },
    {
      "cell_type": "markdown",
      "source": [
        "A model with pre-trained Embeddings\n",
        "\n",
        "Average word embeddings pre-trained with Glove / Word2Vec usually works surprisingly well. However, when averaging more than 10-15 words, the resulting vector becomes too noisy and classification performance is degraded."
      ],
      "metadata": {
        "id": "XZQ4nu_IfkDZ"
      }
    },
    {
      "cell_type": "code",
      "source": [
        "sequence_input = Input(shape=(MAX_SEQUENCE_LENGTH,), dtype='int32')\n",
        "embedded_sequences = pretrained_embedding_layer(sequence_input)\n",
        "average = GlobalAveragePooling1D()(embedded_sequences)\n",
        "predictions = Dense(N_CLASSES, activation='softmax')(average)\n",
        "\n",
        "model = Model(sequence_input, predictions)\n",
        "\n",
        "# We don't want to fine-tune embeddings\n",
        "model.layers[1].trainable = False\n",
        "\n",
        "model.compile(loss='categorical_crossentropy',optimizer='adam', metrics=['acc'])"
      ],
      "metadata": {
        "id": "Jj8yo80VflGH"
      },
      "execution_count": null,
      "outputs": []
    },
    {
      "cell_type": "code",
      "source": [
        "model.fit(x_train, y_train, validation_split=0.1,\n",
        "          epochs=15, batch_size=32)"
      ],
      "metadata": {
        "colab": {
          "base_uri": "https://localhost:8080/"
        },
        "id": "aXyuNLF9f-sb",
        "outputId": "483cb078-c537-439f-8b71-a0070096d077"
      },
      "execution_count": null,
      "outputs": [
        {
          "output_type": "stream",
          "name": "stdout",
          "text": [
            "Epoch 1/15\n",
            "319/319 [==============================] - 4s 11ms/step - loss: 2.9768 - acc: 0.0568 - val_loss: 2.9604 - val_acc: 0.0574\n",
            "Epoch 2/15\n",
            "319/319 [==============================] - 3s 9ms/step - loss: 2.9543 - acc: 0.0676 - val_loss: 2.9449 - val_acc: 0.0804\n",
            "Epoch 3/15\n",
            "319/319 [==============================] - 3s 9ms/step - loss: 2.9420 - acc: 0.0856 - val_loss: 2.9361 - val_acc: 0.0875\n",
            "Epoch 4/15\n",
            "319/319 [==============================] - 4s 12ms/step - loss: 2.9317 - acc: 0.1095 - val_loss: 2.9262 - val_acc: 0.1051\n",
            "Epoch 5/15\n",
            "319/319 [==============================] - 3s 10ms/step - loss: 2.9230 - acc: 0.1126 - val_loss: 2.9216 - val_acc: 0.1042\n",
            "Epoch 6/15\n",
            "319/319 [==============================] - 3s 9ms/step - loss: 2.9161 - acc: 0.1143 - val_loss: 2.9115 - val_acc: 0.1095\n",
            "Epoch 7/15\n",
            "319/319 [==============================] - 3s 9ms/step - loss: 2.9094 - acc: 0.1212 - val_loss: 2.9087 - val_acc: 0.1078\n",
            "Epoch 8/15\n",
            "319/319 [==============================] - 3s 9ms/step - loss: 2.9039 - acc: 0.1225 - val_loss: 2.9003 - val_acc: 0.1299\n",
            "Epoch 9/15\n",
            "319/319 [==============================] - 4s 11ms/step - loss: 2.8990 - acc: 0.1335 - val_loss: 2.8951 - val_acc: 0.1352\n",
            "Epoch 10/15\n",
            "319/319 [==============================] - 3s 8ms/step - loss: 2.8941 - acc: 0.1319 - val_loss: 2.8915 - val_acc: 0.1369\n",
            "Epoch 11/15\n",
            "319/319 [==============================] - 3s 9ms/step - loss: 2.8895 - acc: 0.1357 - val_loss: 2.8901 - val_acc: 0.1325\n",
            "Epoch 12/15\n",
            "319/319 [==============================] - 3s 9ms/step - loss: 2.8854 - acc: 0.1382 - val_loss: 2.8825 - val_acc: 0.1458\n",
            "Epoch 13/15\n",
            "319/319 [==============================] - 4s 11ms/step - loss: 2.8812 - acc: 0.1426 - val_loss: 2.8823 - val_acc: 0.1413\n",
            "Epoch 14/15\n",
            "319/319 [==============================] - 5s 15ms/step - loss: 2.8775 - acc: 0.1446 - val_loss: 2.8769 - val_acc: 0.1519\n",
            "Epoch 15/15\n",
            "319/319 [==============================] - 3s 9ms/step - loss: 2.8735 - acc: 0.1475 - val_loss: 2.8751 - val_acc: 0.1572\n"
          ]
        },
        {
          "output_type": "execute_result",
          "data": {
            "text/plain": [
              "<keras.callbacks.History at 0x7fedb5627f40>"
            ]
          },
          "metadata": {},
          "execution_count": 32
        }
      ]
    },
    {
      "cell_type": "code",
      "source": [
        "output_test = model(x_test)\n",
        "test_casses = np.argmax(output_test, axis=-1)\n",
        "print(\"Test accuracy:\", np.mean(test_casses == y_test))"
      ],
      "metadata": {
        "colab": {
          "base_uri": "https://localhost:8080/"
        },
        "id": "zxHqvumJLB7E",
        "outputId": "9653038f-9314-4868-ff2c-8db66930f3f3"
      },
      "execution_count": null,
      "outputs": [
        {
          "output_type": "stream",
          "name": "stdout",
          "text": [
            "Test accuracy: 0.15042485395645247\n"
          ]
        }
      ]
    },
    {
      "cell_type": "markdown",
      "source": [
        "Remarks:\n",
        "\n",
        "On this type of task, using pre-trained embeddings can degrade results as we train much less parameters and we average a large number pre-trained embeddings.\n",
        "\n",
        "Pre-trained embeddings followed by global averaging prevents overfitting but can also cause some underfitting.\n",
        "\n",
        "Using convolutions / LSTM should help counter the underfitting effect.\n",
        "\n",
        "It is also advisable to treat separately pre-trained embeddings and words out of vocabulary.\n",
        "\n",
        "Pre-trained embeddings can be very useful when the training set is small and the individual text documents to classify are short: in this case there might be a single very important word in a test document that drives the label. If that word has never been seen in the training set but some synonyms were seen, the semantic similarity captured by the embedding will allow the model to generalized out of the restricted training set vocabulary.\n",
        "\n",
        "We did not observe this effect here because the document are long enough so that guessing the topic can be done redundantly. Shortening the documents to make the task more difficult could possibly highlight this benefit."
      ],
      "metadata": {
        "id": "EqnjFP65gCU1"
      }
    }
  ]
}